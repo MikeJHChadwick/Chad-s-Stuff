{
 "cells": [
  {
   "cell_type": "code",
   "execution_count": 16,
   "metadata": {},
   "outputs": [],
   "source": [
    "with open('my_file.txt', mode = 'w', encoding = 'utf-8') as f:\n",
    "    f.write('The first line \\n')\n",
    "    f.write('and this is the second line \\n')\n",
    "    f.write('This is currently the last line \\n')\n",
    "    "
   ]
  },
  {
   "cell_type": "code",
   "execution_count": 17,
   "metadata": {},
   "outputs": [],
   "source": [
    "# # this will replace the first block entirely\n",
    "# with open('my_file.txt', mode = 'w', encoding = 'utf-8') as f:\n",
    "#     f.write('The first line \\n')"
   ]
  },
  {
   "cell_type": "code",
   "execution_count": 19,
   "metadata": {},
   "outputs": [
    {
     "name": "stdout",
     "output_type": "stream",
     "text": [
      "The\n",
      " first\n",
      " line \n",
      "a\n",
      "nd this is the second line \n",
      "\n",
      "This is currently the last line \n",
      "\n"
     ]
    }
   ],
   "source": [
    "with open('my_file.txt', mode = 'r+') as fo:\n",
    "    print(fo.read(3))\n",
    "    print(fo.read(6))\n",
    "    print(fo.read(8))\n",
    "    print(fo.readline())\n",
    "    print(fo.readline())"
   ]
  },
  {
   "cell_type": "code",
   "execution_count": 20,
   "metadata": {},
   "outputs": [
    {
     "name": "stdout",
     "output_type": "stream",
     "text": [
      "The first line \n",
      "\n",
      "and this is the second line \n",
      "This is currently the last line \n",
      "\n"
     ]
    }
   ],
   "source": [
    "with open('my_file.txt', mode='r+') as fo:\n",
    "    print(fo.readline())\n",
    "    print(fo.read())"
   ]
  },
  {
   "cell_type": "code",
   "execution_count": 24,
   "metadata": {},
   "outputs": [
    {
     "name": "stdout",
     "output_type": "stream",
     "text": [
      "The\n",
      "3\n",
      "45\n",
      "45\n",
      "\n",
      "This is currently the last line \n",
      "\n"
     ]
    }
   ],
   "source": [
    "with open('my_file.txt', mode='r+') as fo:\n",
    "    print(fo.read(3))\n",
    "    print(fo.tell())\n",
    "    print(fo.seek(45))\n",
    "    print(fo.tell())\n",
    "    print(fo.read())"
   ]
  },
  {
   "cell_type": "code",
   "execution_count": 26,
   "metadata": {},
   "outputs": [
    {
     "name": "stdout",
     "output_type": "stream",
     "text": [
      "['The first line \\n', 'and this is the second line \\n', 'This is currently the last line \\n']\n"
     ]
    }
   ],
   "source": [
    "with open('my_file.txt', mode='r+') as fo:\n",
    "    print(fo.readlines())"
   ]
  },
  {
   "cell_type": "code",
   "execution_count": null,
   "metadata": {},
   "outputs": [],
   "source": [
    "with open('my_file.txt', mode='r') as ph:\n",
    "    ph.write()"
   ]
  },
  {
   "cell_type": "code",
   "execution_count": 46,
   "metadata": {},
   "outputs": [],
   "source": [
    "with open('courses.csv', mode='w') as csv_file:\n",
    "    csv_file.write('Course Id, Course Name, Instructor \\n')\n",
    "    csv_file.write('CSIPL01, Introductions to Java, Marcial Cordon \\n')\n",
    "    csv_file.write('CSIPL02, Introductions to Python, Yound Wook Baek')\n",
    "    "
   ]
  },
  {
   "cell_type": "code",
   "execution_count": 47,
   "metadata": {},
   "outputs": [
    {
     "name": "stdout",
     "output_type": "stream",
     "text": [
      "Course Id \t  Course Name (  Instructor  )\n",
      "CSIPL01 \t  Introductions to Java (  Marcial Cordon  )\n",
      "CSIPL02 \t  Introductions to Python (  Yound Wook Baek )\n"
     ]
    }
   ],
   "source": [
    "with open('courses.txt', mode='r+') as csv_file:\n",
    "    for line in csv_file.read().split('\\n'):\n",
    "        c_id, c_name, instructor= line.split(',')\n",
    "        print(c_id, '\\t', c_name, '(', instructor, ')')"
   ]
  }
 ],
 "metadata": {
  "kernelspec": {
   "display_name": "Python 3",
   "language": "python",
   "name": "python3"
  },
  "language_info": {
   "codemirror_mode": {
    "name": "ipython",
    "version": 3
   },
   "file_extension": ".py",
   "mimetype": "text/x-python",
   "name": "python",
   "nbconvert_exporter": "python",
   "pygments_lexer": "ipython3",
   "version": "3.10.10"
  },
  "orig_nbformat": 4
 },
 "nbformat": 4,
 "nbformat_minor": 2
}
