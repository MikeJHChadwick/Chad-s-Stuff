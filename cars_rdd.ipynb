{
 "cells": [
  {
   "cell_type": "code",
   "execution_count": 1,
   "metadata": {},
   "outputs": [],
   "source": [
    "import pandas as pd\n",
    "import numpy as np\n",
    "from pyspark import SparkContext\n",
    "sc = SparkContext.getOrCreate ()"
   ]
  },
  {
   "cell_type": "code",
   "execution_count": null,
   "metadata": {},
   "outputs": [],
   "source": [
    "cars_db = pd.read_csv('cars.csv')\n",
    "cars = sc.\n",
    "# #filters the txt splitting it at the commas then checking the 1st index for ones matching Putnam County Airport\n",
    "# #the lambda function that is establishing the condition to be evaluated\n",
    "# us_airports = airports.filter (lambda line: \"Nigeria\" in line.split(\",\")[3])\n",
    "# filtered = us_airports.collect()\n",
    "# print (\"Filter RDD -> %s\" % (filtered))\n"
   ]
  }
 ],
 "metadata": {
  "kernelspec": {
   "display_name": "Python 3",
   "language": "python",
   "name": "python3"
  },
  "language_info": {
   "codemirror_mode": {
    "name": "ipython",
    "version": 3
   },
   "file_extension": ".py",
   "mimetype": "text/x-python",
   "name": "python",
   "nbconvert_exporter": "python",
   "pygments_lexer": "ipython3",
   "version": "3.10.10"
  },
  "orig_nbformat": 4
 },
 "nbformat": 4,
 "nbformat_minor": 2
}
