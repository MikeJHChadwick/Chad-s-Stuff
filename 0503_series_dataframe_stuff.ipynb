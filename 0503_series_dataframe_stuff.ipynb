{
 "cells": [
  {
   "cell_type": "code",
   "execution_count": 1,
   "metadata": {},
   "outputs": [],
   "source": [
    "import numpy as np\n",
    "import pandas as pd\n"
   ]
  },
  {
   "attachments": {},
   "cell_type": "markdown",
   "metadata": {},
   "source": [
    "create a series object"
   ]
  },
  {
   "cell_type": "code",
   "execution_count": 4,
   "metadata": {},
   "outputs": [
    {
     "name": "stdout",
     "output_type": "stream",
     "text": [
      "a   -0.930099\n",
      "b    0.455441\n",
      "c   -0.857944\n",
      "d    0.125874\n",
      "e   -1.343956\n",
      "dtype: float64\n"
     ]
    }
   ],
   "source": [
    "ser = pd.Series(np.random.randn(5), index= ['a', 'b', 'c', 'd', 'e'])#labels\n",
    "print(ser)"
   ]
  },
  {
   "cell_type": "code",
   "execution_count": 15,
   "metadata": {},
   "outputs": [
    {
     "data": {
      "text/plain": [
       "b    1\n",
       "a    0\n",
       "c    2\n",
       "dtype: int64"
      ]
     },
     "execution_count": 15,
     "metadata": {},
     "output_type": "execute_result"
    }
   ],
   "source": [
    "d = {\"b\": 1, \"a\": 0, \"c\": 2}\n",
    "pd.Series(d) #keys become our indexes(labels) and the values become the values of that series\n",
    "                 # 1, 0, 2 is the value\n",
    "                 # 0, 1, 2 (which is not displayed) is the index\n",
    "                 #label to the index; like an alias"
   ]
  },
  {
   "cell_type": "code",
   "execution_count": 12,
   "metadata": {},
   "outputs": [
    {
     "name": "stdout",
     "output_type": "stream",
     "text": [
      "day1    420\n",
      "day2    380\n",
      "dtype: int64\n"
     ]
    }
   ],
   "source": [
    "calories = {\"day1\": 420, \"day2\": 380, \"day3\": 390}\n",
    "myvar = pd.Series(calories, index = [\"day1\", \"day2\"]) #has to use the ke as the index if we're passing in the dictionary\n",
    "print(myvar)"
   ]
  },
  {
   "cell_type": "code",
   "execution_count": 13,
   "metadata": {},
   "outputs": [
    {
     "data": {
      "text/plain": [
       "a    5.0\n",
       "b    5.0\n",
       "c    5.0\n",
       "d    5.0\n",
       "e    5.0\n",
       "dtype: float64"
      ]
     },
     "execution_count": 13,
     "metadata": {},
     "output_type": "execute_result"
    }
   ],
   "source": [
    "pd.Series(5.0, index=[\"a\", \"b\", \"c\", \"d\", \"e\"]) #The value will be repeated to match the length of the index."
   ]
  },
  {
   "attachments": {},
   "cell_type": "markdown",
   "metadata": {},
   "source": [
    "Dataframe\n",
    "keys go from being the indexes/rows in series to being the columns in dataframes when you pass a dictionary"
   ]
  },
  {
   "cell_type": "code",
   "execution_count": 9,
   "metadata": {},
   "outputs": [
    {
     "data": {
      "text/html": [
       "<div>\n",
       "<style scoped>\n",
       "    .dataframe tbody tr th:only-of-type {\n",
       "        vertical-align: middle;\n",
       "    }\n",
       "\n",
       "    .dataframe tbody tr th {\n",
       "        vertical-align: top;\n",
       "    }\n",
       "\n",
       "    .dataframe thead th {\n",
       "        text-align: right;\n",
       "    }\n",
       "</style>\n",
       "<table border=\"1\" class=\"dataframe\">\n",
       "  <thead>\n",
       "    <tr style=\"text-align: right;\">\n",
       "      <th></th>\n",
       "      <th>apple sales</th>\n",
       "      <th>orange sales</th>\n",
       "    </tr>\n",
       "  </thead>\n",
       "  <tbody>\n",
       "    <tr>\n",
       "      <th>2000</th>\n",
       "      <td>3</td>\n",
       "      <td>0</td>\n",
       "    </tr>\n",
       "    <tr>\n",
       "      <th>2001</th>\n",
       "      <td>2</td>\n",
       "      <td>2</td>\n",
       "    </tr>\n",
       "    <tr>\n",
       "      <th>2002</th>\n",
       "      <td>0</td>\n",
       "      <td>3</td>\n",
       "    </tr>\n",
       "    <tr>\n",
       "      <th>2003</th>\n",
       "      <td>1</td>\n",
       "      <td>5</td>\n",
       "    </tr>\n",
       "    <tr>\n",
       "      <th>2004</th>\n",
       "      <td>6</td>\n",
       "      <td>6</td>\n",
       "    </tr>\n",
       "    <tr>\n",
       "      <th>2005</th>\n",
       "      <td>9</td>\n",
       "      <td>7</td>\n",
       "    </tr>\n",
       "  </tbody>\n",
       "</table>\n",
       "</div>"
      ],
      "text/plain": [
       "      apple sales  orange sales\n",
       "2000            3             0\n",
       "2001            2             2\n",
       "2002            0             3\n",
       "2003            1             5\n",
       "2004            6             6\n",
       "2005            9             7"
      ]
     },
     "execution_count": 9,
     "metadata": {},
     "output_type": "execute_result"
    }
   ],
   "source": [
    "data = {'apple sales': [3,2,0,1,6,9], 'orange sales': [0,2,3,5,6,7]}\n",
    "# df_sales = pd.DataFrame(data, index=['2000', '2001', '2002', '2003','2004', '2005'])\n",
    "df_sales = pd.DataFrame(data, index=range(2000, 2006)) #also works but wo't be strings\n",
    "df_sales"
   ]
  },
  {
   "cell_type": "code",
   "execution_count": 15,
   "metadata": {},
   "outputs": [
    {
     "data": {
      "text/html": [
       "<div>\n",
       "<style scoped>\n",
       "    .dataframe tbody tr th:only-of-type {\n",
       "        vertical-align: middle;\n",
       "    }\n",
       "\n",
       "    .dataframe tbody tr th {\n",
       "        vertical-align: top;\n",
       "    }\n",
       "\n",
       "    .dataframe thead th {\n",
       "        text-align: right;\n",
       "    }\n",
       "</style>\n",
       "<table border=\"1\" class=\"dataframe\">\n",
       "  <thead>\n",
       "    <tr style=\"text-align: right;\">\n",
       "      <th></th>\n",
       "      <th>apple sales</th>\n",
       "      <th>orange sales</th>\n",
       "    </tr>\n",
       "  </thead>\n",
       "  <tbody>\n",
       "    <tr>\n",
       "      <th>2001</th>\n",
       "      <td>2</td>\n",
       "      <td>2</td>\n",
       "    </tr>\n",
       "    <tr>\n",
       "      <th>2002</th>\n",
       "      <td>0</td>\n",
       "      <td>3</td>\n",
       "    </tr>\n",
       "  </tbody>\n",
       "</table>\n",
       "</div>"
      ],
      "text/plain": [
       "      apple sales  orange sales\n",
       "2001            2             2\n",
       "2002            0             3"
      ]
     },
     "execution_count": 15,
     "metadata": {},
     "output_type": "execute_result"
    }
   ],
   "source": [
    "#needs to be '2000' if using the string indexes above; referencing the labels that we were making\n",
    "#can also be slices like .iloc [1:3]\n",
    "sales= df_sales.loc[2002] \n",
    "#returns a series object; its not a series if we get more than one result back\n",
    "# print(type(df_sales[2002])\n",
    "\n",
    "#.iloc is for the indexes; uses the integer positions only\n",
    "df_sales.iloc[1]\n",
    "#can also use slices\n",
    "df_sales.iloc[1:3]\n",
    "\n",
    "#why would we want to transpose these; we wanna try and manipulate things by columns cause its faster than performing aggregates on rows.\n",
    "#so we want to transpose the dataframe if we want to perform fucntions using the years instead of the apple sales(which would use many different places of memory and different data types; unlike rows)\n",
    "\n",
    "#transpose creates a copy of the dataframe\n"
   ]
  },
  {
   "cell_type": "code",
   "execution_count": 21,
   "metadata": {},
   "outputs": [
    {
     "data": {
      "text/html": [
       "<div>\n",
       "<style scoped>\n",
       "    .dataframe tbody tr th:only-of-type {\n",
       "        vertical-align: middle;\n",
       "    }\n",
       "\n",
       "    .dataframe tbody tr th {\n",
       "        vertical-align: top;\n",
       "    }\n",
       "\n",
       "    .dataframe thead th {\n",
       "        text-align: right;\n",
       "    }\n",
       "</style>\n",
       "<table border=\"1\" class=\"dataframe\">\n",
       "  <thead>\n",
       "    <tr style=\"text-align: right;\">\n",
       "      <th></th>\n",
       "      <th>apple sales</th>\n",
       "      <th>Strawberry sales</th>\n",
       "      <th>pineapple sales</th>\n",
       "      <th>pineapple sales</th>\n",
       "      <th>orange sales</th>\n",
       "    </tr>\n",
       "  </thead>\n",
       "  <tbody>\n",
       "    <tr>\n",
       "      <th>2000</th>\n",
       "      <td>3</td>\n",
       "      <td>4</td>\n",
       "      <td>4</td>\n",
       "      <td>4</td>\n",
       "      <td>0</td>\n",
       "    </tr>\n",
       "    <tr>\n",
       "      <th>2001</th>\n",
       "      <td>2</td>\n",
       "      <td>6</td>\n",
       "      <td>6</td>\n",
       "      <td>6</td>\n",
       "      <td>2</td>\n",
       "    </tr>\n",
       "    <tr>\n",
       "      <th>2002</th>\n",
       "      <td>0</td>\n",
       "      <td>5</td>\n",
       "      <td>5</td>\n",
       "      <td>5</td>\n",
       "      <td>3</td>\n",
       "    </tr>\n",
       "    <tr>\n",
       "      <th>2003</th>\n",
       "      <td>1</td>\n",
       "      <td>3</td>\n",
       "      <td>3</td>\n",
       "      <td>3</td>\n",
       "      <td>5</td>\n",
       "    </tr>\n",
       "    <tr>\n",
       "      <th>2004</th>\n",
       "      <td>6</td>\n",
       "      <td>2</td>\n",
       "      <td>2</td>\n",
       "      <td>2</td>\n",
       "      <td>6</td>\n",
       "    </tr>\n",
       "    <tr>\n",
       "      <th>2005</th>\n",
       "      <td>9</td>\n",
       "      <td>4</td>\n",
       "      <td>7</td>\n",
       "      <td>7</td>\n",
       "      <td>7</td>\n",
       "    </tr>\n",
       "  </tbody>\n",
       "</table>\n",
       "</div>"
      ],
      "text/plain": [
       "      apple sales  Strawberry sales  pineapple sales  pineapple sales   \n",
       "2000            3                 4                4                4  \\\n",
       "2001            2                 6                6                6   \n",
       "2002            0                 5                5                5   \n",
       "2003            1                 3                3                3   \n",
       "2004            6                 2                2                2   \n",
       "2005            9                 4                7                7   \n",
       "\n",
       "      orange sales  \n",
       "2000             0  \n",
       "2001             2  \n",
       "2002             3  \n",
       "2003             5  \n",
       "2004             6  \n",
       "2005             7  "
      ]
     },
     "execution_count": 21,
     "metadata": {},
     "output_type": "execute_result"
    }
   ],
   "source": [
    "#adds column at 1 and orange sales got moved to two; 1, is called the column index\n",
    "df_sales.insert(1, 'Strawberry sales', [4, 6, 5, 3, 2, 4], allow_duplicates=True)\n",
    "#insert function always inserts a column; wont add it if it doesnt have the same amount of values/rows to be able to inserted\n",
    "# df_sales.insert(1, 'Strawberry sales', [4, 6, 5, 3, 2], allow_duplicates=True) \n",
    "df_sales"
   ]
  },
  {
   "cell_type": "code",
   "execution_count": null,
   "metadata": {},
   "outputs": [],
   "source": [
    "\n",
    "#the parameted by sets the label of the row or column to sort by w/.sort_values()"
   ]
  },
  {
   "attachments": {},
   "cell_type": "markdown",
   "metadata": {},
   "source": [
    "# columns are panda series even in a dataframe, because a dataframe is a collection of series\n",
    "df['symboling']=df['symboling']+1 #adds the integer value of 1 across the whole series\n",
    "\n",
    "missing values in python: represented by ?, NaN, 0(shouldnt be a missing value) , Na\n",
    "-check the data collection source\n",
    "-drop the missing values: drop the variable, drop the data entry (when dealing with data do the thing that has the least impact)\n",
    "-replace the missing values: raplace it with and average (of similair datapoinst); replace if by frequency; replace it based on other functions(used when the person knows what the missing data is)\n",
    "-leave the missing data as missing data\n",
    "\n",
    "to remove data from missing values df.dropna()\n",
    "axis=0 drops the the entire row \n",
    "axis=1 drops the entire column\n",
    "\n",
    "df.dropna(subset=['price'], axis = 0, inplace=True) inlace=True is just showing us a view of what it would look like, it wouldnt change anything; you can save it to a new variable \n",
    "\n",
    "# df.replace(missing_value, new_value) ; the defualt setting inplace is fales so it does not change the original dataframe ; this returns a new dataframe object that ifyooud dont set to a new variable is useless and lost ; looks for none values by default\n",
    "mean =df['normalized-loses'].mean() # the mean method disregaurds the NaN values\n",
    "df['normalized-loses'].replace(np.nan, mean)\n",
    "\n",
    "\n",
    "\n",
    "\n",
    "\n"
   ]
  },
  {
   "attachments": {},
   "cell_type": "markdown",
   "metadata": {},
   "source": [
    "Data formatting\n",
    "\n",
    "df['city-mpg'] = 235/df['city-mpg']\n",
    "df.rename(columns={'city-mpg': 'city-L/100km'}, inplace=True)\n",
    "\n",
    "\n",
    "sometimes the wrong data type is assigned to a feature\n",
    "dataframe.dtypes() checks the datatype for each column\n",
    "~This returns a Series with the data type of each column. The result’s index is the original DataFrame’s columns. Columns with mixed types are stored with the object dtype\n",
    "\n",
    "dataframe.astype()\n",
    "df['price'] = df['price'].astype('int') #1 single brackeyt access it as series and a doulbe access it as a dataframe(changes it as a dataframe)\n",
    "\n",
    "\n",
    "Data normalization\n",
    "\n",
    "simple feature scaling: x_new = x_old/x_max , # main takeaway for now\n",
    "min-max: x_new = x_old - x_min/x_max-x_min , \n",
    "z-score: x_new/x_old-mu(mean of the sample)/sigma(standard deviation of the sample)\n",
    "\n",
    "df['length']=df['length']/df['length'].max()\n",
    "\n",
    "\n",
    "Binning in Python(method of data preprocessing): Grouping of values into \"bins\"\n",
    "\n",
    "bins = np.linespace(min(df['price']), max(df['price']), 4)\n",
    "group_names = ['low', 'medium', 'high']\n",
    "df['price-binned']=pd.cut(df['price'], bins, labels=group_names, include_lowest=True) passing in the price column and bins. working on our object instead of our dataset\n",
    "\n",
    "Categorical Variables into Quantative Variables\n",
    "\n",
    "most stats models cannot take in the objects/strings as input\n",
    "One-Hot encoding\n",
    "add dummy variables f/e unigue category(columns)\n",
    "assign 0 ir 1 in each category\n",
    "pd.get_dummies(df['fuel']) # creates additional columns by adding a true false ea\n",
    "\n",
    "\n",
    "\n",
    "\n",
    "\n",
    "\n",
    "\n",
    "\n",
    "\n",
    "\n"
   ]
  },
  {
   "cell_type": "code",
   "execution_count": 27,
   "metadata": {},
   "outputs": [
    {
     "name": "stdout",
     "output_type": "stream",
     "text": [
      "------before -------\n",
      "     Name  Height Qualification  Score 1  Score 2\n",
      "0    Jane     5.1           Msc       56       50\n",
      "1  Princi     6.2            MA       86       96\n",
      "2   James     5.1           Msc       77       60\n",
      "3    Fadi     5.2           Msc       45       30\n",
      "------after adding column -------\n",
      "     Name  Height Qualification  Score 1  Score 2 address\n",
      "0    Jane     5.1           Msc       56       50     NYC\n",
      "1  Princi     6.2            MA       86       96      NJ\n",
      "2   James     5.1           Msc       77       60      CA\n",
      "3    Fadi     5.2           Msc       45       30      PA\n",
      "------after sorting -------\n",
      "     Name  Height Qualification  Score 1  Score 2 address\n",
      "1  Princi     6.2            MA       86       96      NJ\n",
      "2   James     5.1           Msc       77       60      CA\n",
      "0    Jane     5.1           Msc       56       50     NYC\n",
      "3    Fadi     5.2           Msc       45       30      PA\n",
      "     Name  Height Qualification  Score 1  Score 2 address\n",
      "1  Princi     6.2            MA       86       96      NJ\n",
      "3    Fadi     5.2           Msc       45       30      PA\n",
      "0    Jane     5.1           Msc       56       50     NYC\n",
      "2   James     5.1           Msc       77       60      CA\n"
     ]
    }
   ],
   "source": [
    "# Define a dictionary containing Students data\n",
    "data = {'Name': ['Jane', 'Princi', 'James', 'Fadi'],\n",
    "        'Height': [5.1, 6.2, 5.1, 5.2],\n",
    "        'Qualification': ['Msc', 'MA', 'Msc', 'Msc'],\n",
    "       'Score 1' : [56,86,77,45],\n",
    "       'Score 2' : [50,96,60,30]}\n",
    "print(\"------before -------\")  \n",
    "# Convert the dictionary into DataFrame\n",
    "df = pd.DataFrame(data)\n",
    "print(df)\n",
    "print(\"------after adding column -------\")\n",
    "# using DataFrame.assign() method adding 'Address' column and equating it to the list\n",
    "df = df.assign(address = ['NYC', 'NJ', 'CA', 'PA'])\n",
    "print(df)\n",
    "print(\"------after sorting -------\")\n",
    "print(df.sort_values(by='Score 1', ascending=False))\n",
    "\n",
    "print(df.sort_values(by=[ 'Height','Score 1'], ascending=[False, True]))\n",
    "\n",
    "\n"
   ]
  },
  {
   "cell_type": "code",
   "execution_count": 29,
   "metadata": {},
   "outputs": [
    {
     "name": "stdout",
     "output_type": "stream",
     "text": [
      "0    False\n",
      "1     True\n",
      "2     True\n",
      "3    False\n",
      "Name: Score 1, dtype: bool\n",
      "<class 'pandas.core.series.Series'>\n"
     ]
    }
   ],
   "source": [
    "print(df['Score 1'] > 70)\n",
    "print(type(df['Score 1'] > 70))"
   ]
  },
  {
   "cell_type": "code",
   "execution_count": 33,
   "metadata": {},
   "outputs": [
    {
     "name": "stdout",
     "output_type": "stream",
     "text": [
      "     Name  Height Qualification  Score 1  Score 2 address\n",
      "1  Princi     6.2            MA       86       96      NJ\n",
      "2   James     5.1           Msc       77       60      CA\n",
      "<class 'pandas.core.frame.DataFrame'>\n"
     ]
    }
   ],
   "source": [
    "print(df[df['Score 1'] > 70]) #w/o the second df we're not getting all the columns from the dataframe\n",
    "print(type(df[df['Score 1'] > 70]))"
   ]
  },
  {
   "cell_type": "code",
   "execution_count": 36,
   "metadata": {},
   "outputs": [
    {
     "name": "stdout",
     "output_type": "stream",
     "text": [
      "     Name  Height Qualification  Score 1  Score 2 address\n",
      "1  Princi     6.2            MA       86       96      NJ\n"
     ]
    }
   ],
   "source": [
    "print(df[(df['Score 1'] >= 70) & (df['Score 2'] >= 80)])"
   ]
  },
  {
   "cell_type": "code",
   "execution_count": 43,
   "metadata": {},
   "outputs": [
    {
     "name": "stdout",
     "output_type": "stream",
     "text": [
      "         Height    Score 1   Score 2\n",
      "count  4.000000   4.000000   4.00000\n",
      "mean   5.400000  66.000000  59.00000\n",
      "std    0.535413  18.814888  27.64055\n",
      "min    5.100000  45.000000  30.00000\n",
      "25%    5.100000  53.250000  45.00000\n",
      "50%    5.150000  66.500000  55.00000\n",
      "75%    5.450000  79.250000  69.00000\n",
      "max    6.200000  86.000000  96.00000\n"
     ]
    },
    {
     "data": {
      "text/html": [
       "<div>\n",
       "<style scoped>\n",
       "    .dataframe tbody tr th:only-of-type {\n",
       "        vertical-align: middle;\n",
       "    }\n",
       "\n",
       "    .dataframe tbody tr th {\n",
       "        vertical-align: top;\n",
       "    }\n",
       "\n",
       "    .dataframe thead th {\n",
       "        text-align: right;\n",
       "    }\n",
       "</style>\n",
       "<table border=\"1\" class=\"dataframe\">\n",
       "  <thead>\n",
       "    <tr style=\"text-align: right;\">\n",
       "      <th></th>\n",
       "      <th>Name</th>\n",
       "      <th>Height</th>\n",
       "      <th>Qualification</th>\n",
       "      <th>Score 1</th>\n",
       "      <th>Score 2</th>\n",
       "      <th>address</th>\n",
       "    </tr>\n",
       "  </thead>\n",
       "  <tbody>\n",
       "    <tr>\n",
       "      <th>count</th>\n",
       "      <td>4</td>\n",
       "      <td>4.000000</td>\n",
       "      <td>4</td>\n",
       "      <td>4.000000</td>\n",
       "      <td>4.00000</td>\n",
       "      <td>4</td>\n",
       "    </tr>\n",
       "    <tr>\n",
       "      <th>unique</th>\n",
       "      <td>4</td>\n",
       "      <td>NaN</td>\n",
       "      <td>2</td>\n",
       "      <td>NaN</td>\n",
       "      <td>NaN</td>\n",
       "      <td>4</td>\n",
       "    </tr>\n",
       "    <tr>\n",
       "      <th>top</th>\n",
       "      <td>Jane</td>\n",
       "      <td>NaN</td>\n",
       "      <td>Msc</td>\n",
       "      <td>NaN</td>\n",
       "      <td>NaN</td>\n",
       "      <td>NYC</td>\n",
       "    </tr>\n",
       "    <tr>\n",
       "      <th>freq</th>\n",
       "      <td>1</td>\n",
       "      <td>NaN</td>\n",
       "      <td>3</td>\n",
       "      <td>NaN</td>\n",
       "      <td>NaN</td>\n",
       "      <td>1</td>\n",
       "    </tr>\n",
       "    <tr>\n",
       "      <th>mean</th>\n",
       "      <td>NaN</td>\n",
       "      <td>5.400000</td>\n",
       "      <td>NaN</td>\n",
       "      <td>66.000000</td>\n",
       "      <td>59.00000</td>\n",
       "      <td>NaN</td>\n",
       "    </tr>\n",
       "    <tr>\n",
       "      <th>std</th>\n",
       "      <td>NaN</td>\n",
       "      <td>0.535413</td>\n",
       "      <td>NaN</td>\n",
       "      <td>18.814888</td>\n",
       "      <td>27.64055</td>\n",
       "      <td>NaN</td>\n",
       "    </tr>\n",
       "    <tr>\n",
       "      <th>min</th>\n",
       "      <td>NaN</td>\n",
       "      <td>5.100000</td>\n",
       "      <td>NaN</td>\n",
       "      <td>45.000000</td>\n",
       "      <td>30.00000</td>\n",
       "      <td>NaN</td>\n",
       "    </tr>\n",
       "    <tr>\n",
       "      <th>25%</th>\n",
       "      <td>NaN</td>\n",
       "      <td>5.100000</td>\n",
       "      <td>NaN</td>\n",
       "      <td>53.250000</td>\n",
       "      <td>45.00000</td>\n",
       "      <td>NaN</td>\n",
       "    </tr>\n",
       "    <tr>\n",
       "      <th>50%</th>\n",
       "      <td>NaN</td>\n",
       "      <td>5.150000</td>\n",
       "      <td>NaN</td>\n",
       "      <td>66.500000</td>\n",
       "      <td>55.00000</td>\n",
       "      <td>NaN</td>\n",
       "    </tr>\n",
       "    <tr>\n",
       "      <th>75%</th>\n",
       "      <td>NaN</td>\n",
       "      <td>5.450000</td>\n",
       "      <td>NaN</td>\n",
       "      <td>79.250000</td>\n",
       "      <td>69.00000</td>\n",
       "      <td>NaN</td>\n",
       "    </tr>\n",
       "    <tr>\n",
       "      <th>max</th>\n",
       "      <td>NaN</td>\n",
       "      <td>6.200000</td>\n",
       "      <td>NaN</td>\n",
       "      <td>86.000000</td>\n",
       "      <td>96.00000</td>\n",
       "      <td>NaN</td>\n",
       "    </tr>\n",
       "  </tbody>\n",
       "</table>\n",
       "</div>"
      ],
      "text/plain": [
       "        Name    Height Qualification    Score 1   Score 2 address\n",
       "count      4  4.000000             4   4.000000   4.00000       4\n",
       "unique     4       NaN             2        NaN       NaN       4\n",
       "top     Jane       NaN           Msc        NaN       NaN     NYC\n",
       "freq       1       NaN             3        NaN       NaN       1\n",
       "mean     NaN  5.400000           NaN  66.000000  59.00000     NaN\n",
       "std      NaN  0.535413           NaN  18.814888  27.64055     NaN\n",
       "min      NaN  5.100000           NaN  45.000000  30.00000     NaN\n",
       "25%      NaN  5.100000           NaN  53.250000  45.00000     NaN\n",
       "50%      NaN  5.150000           NaN  66.500000  55.00000     NaN\n",
       "75%      NaN  5.450000           NaN  79.250000  69.00000     NaN\n",
       "max      NaN  6.200000           NaN  86.000000  96.00000     NaN"
      ]
     },
     "execution_count": 43,
     "metadata": {},
     "output_type": "execute_result"
    }
   ],
   "source": [
    "print(df.describe()) # isn't counting any of the columns with object data type\n",
    "df.describe(include= 'all') # so we can include all\n"
   ]
  }
 ],
 "metadata": {
  "kernelspec": {
   "display_name": "Python 3",
   "language": "python",
   "name": "python3"
  },
  "language_info": {
   "codemirror_mode": {
    "name": "ipython",
    "version": 3
   },
   "file_extension": ".py",
   "mimetype": "text/x-python",
   "name": "python",
   "nbconvert_exporter": "python",
   "pygments_lexer": "ipython3",
   "version": "3.10.10"
  },
  "orig_nbformat": 4
 },
 "nbformat": 4,
 "nbformat_minor": 2
}
