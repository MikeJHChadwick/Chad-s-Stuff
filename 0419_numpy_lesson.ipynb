{
 "cells": [
  {
   "cell_type": "code",
   "execution_count": 17,
   "metadata": {},
   "outputs": [],
   "source": [
    "import numpy as np"
   ]
  },
  {
   "cell_type": "code",
   "execution_count": 18,
   "metadata": {},
   "outputs": [
    {
     "name": "stdout",
     "output_type": "stream",
     "text": [
      "[1 2 3 4 5]\n",
      "<class 'numpy.ndarray'>\n"
     ]
    }
   ],
   "source": [
    "array1 = np.array([1, 2, 3, 4, 5]) # this is a python list passed into an array, so make sure to \n",
    "print(array1)                      # structure the list into a homogenous type\n",
    "print(type(array1))"
   ]
  },
  {
   "attachments": {},
   "cell_type": "markdown",
   "metadata": {},
   "source": [
    "Dimensions in Arrays"
   ]
  },
  {
   "cell_type": "code",
   "execution_count": 19,
   "metadata": {},
   "outputs": [],
   "source": [
    "#0-D arrays, these are also called Salars. Each elements is a 0 dimensional array\n",
    "\n",
    "array2 = np.array(42)\n"
   ]
  },
  {
   "cell_type": "code",
   "execution_count": 81,
   "metadata": {},
   "outputs": [
    {
     "name": "stdout",
     "output_type": "stream",
     "text": [
      "(6,) \n",
      "\n",
      "[[1]\n",
      " [2]\n",
      " [3]\n",
      " [4]\n",
      " [5]\n",
      " [6]]\n"
     ]
    }
   ],
   "source": [
    "#1-D arrat. These arrays have 0-D arrays as the elements. These ate the most basic and common arrays\n",
    "\n",
    "array3 = np.array([1,2,3,4,5,6])\n",
    "print(array3.shape, \"\\n\")\n",
    "print(np.transpose([array3]))\n"
   ]
  },
  {
   "cell_type": "code",
   "execution_count": 21,
   "metadata": {},
   "outputs": [
    {
     "name": "stdout",
     "output_type": "stream",
     "text": [
      "[[1 2 3]\n",
      " [4 5 6]]\n"
     ]
    }
   ],
   "source": [
    "#2-D array. These arrays contain 1-D arrays as the elements. These are used to signify a matrix. \n",
    "#(Also called 2nd order tensers)\n",
    "\n",
    "array4 = np.array([[1,2,3],[4,5,6]])\n",
    "print(array4)"
   ]
  },
  {
   "cell_type": "code",
   "execution_count": 22,
   "metadata": {},
   "outputs": [
    {
     "name": "stdout",
     "output_type": "stream",
     "text": [
      "[[[1 2 3]\n",
      "  [4 5 6]]\n",
      "\n",
      " [[1 2 3]\n",
      "  [4 5 6]]]\n"
     ]
    }
   ],
   "source": [
    "#3-D array. These arrays have a 2-D arrays as its elements\n",
    "\n",
    "array5 = np.array([[[1,2,3], [4,5,6]], [[1,2,3],[4,5,6]]])\n",
    "print(array5)"
   ]
  },
  {
   "cell_type": "code",
   "execution_count": 24,
   "metadata": {},
   "outputs": [
    {
     "name": "stdout",
     "output_type": "stream",
     "text": [
      "0\n",
      "1\n",
      "2\n",
      "3\n"
     ]
    }
   ],
   "source": [
    "print(array2.ndim)#ndim isnt a method is an attribute of the class, easy to tell nsince no parentheses\n",
    "print(array3.ndim)\n",
    "print(array4.ndim)\n",
    "print(array5.ndim)\n",
    "\n"
   ]
  },
  {
   "attachments": {},
   "cell_type": "markdown",
   "metadata": {},
   "source": [
    "Accessing the indexes of a np.array"
   ]
  },
  {
   "cell_type": "code",
   "execution_count": 32,
   "metadata": {},
   "outputs": [
    {
     "name": "stdout",
     "output_type": "stream",
     "text": [
      "[1 2 3]\n",
      "[4 5 6]\n",
      "[5 7 9]\n"
     ]
    },
    {
     "ename": "ValueError",
     "evalue": "setting an array element with a sequence. The requested array has an inhomogeneous shape after 1 dimensions. The detected shape was (2,) + inhomogeneous part.",
     "output_type": "error",
     "traceback": [
      "\u001b[1;31m---------------------------------------------------------------------------\u001b[0m",
      "\u001b[1;31mValueError\u001b[0m                                Traceback (most recent call last)",
      "Cell \u001b[1;32mIn[32], line 5\u001b[0m\n\u001b[0;32m      2\u001b[0m \u001b[39mprint\u001b[39m(array4[\u001b[39m1\u001b[39m])\n\u001b[0;32m      3\u001b[0m \u001b[39mprint\u001b[39m(array4[\u001b[39m0\u001b[39m] \u001b[39m+\u001b[39m array4[\u001b[39m1\u001b[39m])\n\u001b[1;32m----> 5\u001b[0m add_array\u001b[39m=\u001b[39m np\u001b[39m.\u001b[39;49marray([[\u001b[39m1\u001b[39;49m,\u001b[39m2\u001b[39;49m,\u001b[39m3\u001b[39;49m,\u001b[39m4\u001b[39;49m], [\u001b[39m5\u001b[39;49m,\u001b[39m6\u001b[39;49m,\u001b[39m7\u001b[39;49m]])\n\u001b[0;32m      6\u001b[0m \u001b[39mprint\u001b[39m(add_array[\u001b[39m0\u001b[39m] \u001b[39m+\u001b[39m add_array[\u001b[39m1\u001b[39m])\n",
      "\u001b[1;31mValueError\u001b[0m: setting an array element with a sequence. The requested array has an inhomogeneous shape after 1 dimensions. The detected shape was (2,) + inhomogeneous part."
     ]
    }
   ],
   "source": [
    "print(array4[0])\n",
    "print(array4[1])\n",
    "print(array4[0] + array4[1])\n",
    "\n",
    "add_array= np.array([[1,2,3,4], [5,6,7]])\n",
    "print(add_array[0] + add_array[1])"
   ]
  },
  {
   "cell_type": "code",
   "execution_count": 33,
   "metadata": {},
   "outputs": [
    {
     "name": "stdout",
     "output_type": "stream",
     "text": [
      "(2, 3)\n",
      "[1 2 3]\n",
      "1\n",
      "1\n"
     ]
    }
   ],
   "source": [
    "test_array = np.array([[1,2,3], [4,5,6]])\n",
    "print(test_array.shape)\n",
    "\n",
    "\n",
    "inner_array = test_array[0] # rows, colums\n",
    "print(inner_array) \n",
    "print(inner_array[0])\n",
    "# or directly\n",
    "print(test_array[0][0])"
   ]
  },
  {
   "attachments": {},
   "cell_type": "markdown",
   "metadata": {},
   "source": [
    "Slicing numpy arrays"
   ]
  },
  {
   "cell_type": "code",
   "execution_count": 59,
   "metadata": {},
   "outputs": [
    {
     "name": "stdout",
     "output_type": "stream",
     "text": [
      "[[1 2 3]\n",
      " [4 5 6]\n",
      " [7 8 9]]\n",
      "[[ 7  8  9]\n",
      " [10 11 12]]\n",
      "2\n"
     ]
    }
   ],
   "source": [
    "array6 = np.array([[1,2,3],[4,5,6], [7,8,9], [10,11,12]])\n",
    "print(array6[0:3]) # [:3] produces the same result\n",
    "print(array6[2:])\n",
    "print(array6.ndim) #checks the dimensions of the array"
   ]
  },
  {
   "attachments": {},
   "cell_type": "markdown",
   "metadata": {},
   "source": [
    "Arithmetic Operations\n",
    "We can perform element-wise operations with scalar values\n",
    "\n",
    "Aggregate Functions\n",
    "We canperform aggregate \n",
    "-min\n",
    "-max\n",
    "-mean"
   ]
  },
  {
   "cell_type": "code",
   "execution_count": 45,
   "metadata": {},
   "outputs": [
    {
     "name": "stdout",
     "output_type": "stream",
     "text": [
      "[[ 2  3  4]\n",
      " [ 5  6  7]\n",
      " [ 8  9 10]\n",
      " [11 12 13]] \n",
      "\n",
      "[[ 2  4  6]\n",
      " [ 8 10 12]\n",
      " [14 16 18]\n",
      " [20 22 24]] \n",
      "\n",
      "[[0.5 1.  1.5]\n",
      " [2.  2.5 3. ]\n",
      " [3.5 4.  4.5]\n",
      " [5.  5.5 6. ]] \n",
      "\n"
     ]
    }
   ],
   "source": [
    "sum= array6 + 1 #performs +1 to all elements in the array incrementing them by 1. We normally do this by a for loop\n",
    "product= array6 * 2\n",
    "division= array6 / 2\n",
    "\n",
    "\n",
    "print(sum,\"\\n\")\n",
    "print(product, \"\\n\")\n",
    "print(division, \"\\n\")\n"
   ]
  },
  {
   "cell_type": "code",
   "execution_count": 54,
   "metadata": {},
   "outputs": [
    {
     "name": "stdout",
     "output_type": "stream",
     "text": [
      "15 1 5 3.0\n",
      "<class 'numpy.int32'>\n",
      "16\n",
      "18\n"
     ]
    }
   ],
   "source": [
    "#.mean()\n",
    "#.min()\n",
    "#.max()\n",
    "#.sum()\n",
    "\n",
    "sum=np.sum(array3)\n",
    "min=np.min(array3)\n",
    "max=np.max(array3)\n",
    "mean=np.mean(array3)\n",
    "\n",
    "print(sum, min, max, mean)\n",
    "print(type(sum))\n",
    "print(sum + min)\n",
    "print(sum + 3)"
   ]
  },
  {
   "attachments": {},
   "cell_type": "markdown",
   "metadata": {},
   "source": [
    "Broadcasting wih a 2D array"
   ]
  },
  {
   "cell_type": "code",
   "execution_count": 56,
   "metadata": {},
   "outputs": [
    {
     "name": "stdout",
     "output_type": "stream",
     "text": [
      "[[ 2  4  6]\n",
      " [ 8 10 12]\n",
      " [14 16 18]\n",
      " [20 22 24]]\n"
     ]
    }
   ],
   "source": [
    "multidimension_broadcast= array6 * 2\n",
    "print(multidimension_broadcast)"
   ]
  },
  {
   "attachments": {},
   "cell_type": "markdown",
   "metadata": {},
   "source": [
    "Shaping with Numpy Arrays\n",
    "- attribute shape"
   ]
  },
  {
   "cell_type": "code",
   "execution_count": 67,
   "metadata": {},
   "outputs": [
    {
     "name": "stdout",
     "output_type": "stream",
     "text": [
      "(4, 3)\n",
      "(4, 3)\n",
      "(2, 2, 3)\n"
     ]
    }
   ],
   "source": [
    "print(array6.shape) # 4 elements containing 3 elements; 2 dimensional array\n",
    "                    #row and column structure with no depth behind it.\n",
    "                    # is using an array attribute\n",
    "print(np.shape(array6)) # is passing it into a function\n",
    "print(array5.shape) # 2 elements containing 2 elements containing 2 elements; 3 dimensional array\n",
    "                    #3rd dimension gives us our depth"
   ]
  },
  {
   "attachments": {},
   "cell_type": "markdown",
   "metadata": {},
   "source": [
    "Reshaping an Array"
   ]
  },
  {
   "cell_type": "code",
   "execution_count": 68,
   "metadata": {},
   "outputs": [
    {
     "name": "stdout",
     "output_type": "stream",
     "text": [
      "(6,) \n",
      "\n",
      "[[1 2 3]\n",
      " [4 5 6]]\n",
      "[[1 2 3]\n",
      " [4 5 6]] \n",
      "\n",
      "[[1 2]\n",
      " [3 4]\n",
      " [5 6]]\n"
     ]
    }
   ],
   "source": [
    "print(array3.shape, \"\\n\") #1-D array print shows (5,)\n",
    "print(np.reshape(array3, [2,3])) # needs a tuple\n",
    "print(array3.reshape(2,3), \"\\n\") #calling the method on the object array3 , doesn't need a tuple\n",
    "\n",
    "\n",
    "print(np.reshape(array3, [3,2]))"
   ]
  },
  {
   "attachments": {},
   "cell_type": "markdown",
   "metadata": {},
   "source": [
    "Transposing Arrays\n",
    "-reverse the order of the axes"
   ]
  },
  {
   "cell_type": "code",
   "execution_count": 78,
   "metadata": {},
   "outputs": [
    {
     "name": "stdout",
     "output_type": "stream",
     "text": [
      "(2, 3)\n",
      "[[1 2 3]\n",
      " [4 5 6]] \n",
      "\n",
      "[[1 4]\n",
      " [2 5]\n",
      " [3 6]]\n",
      "(3, 2)\n"
     ]
    }
   ],
   "source": [
    "print(array4.shape)\n",
    "print(array4, \"\\n\")\n",
    "\n",
    "print(array4.transpose())\n",
    "print(array4.transpose().shape)\n"
   ]
  },
  {
   "attachments": {},
   "cell_type": "markdown",
   "metadata": {},
   "source": [
    "Boolean Operations"
   ]
  },
  {
   "cell_type": "code",
   "execution_count": 84,
   "metadata": {},
   "outputs": [
    {
     "name": "stdout",
     "output_type": "stream",
     "text": [
      "[False  True  True False  True]\n",
      "False\n"
     ]
    }
   ],
   "source": [
    "a= np.array([1,2,3,4,5])\n",
    "b= np.array([2,2,3,3,5])\n",
    "\n",
    "c= a == b #checks each individual element vs the other in the same index\n",
    "d= np.array_equal(a, b) # checks the full array against the other full array, each element is exactly the same in the same index\n",
    "\n",
    "print(c)\n",
    "print(d)"
   ]
  },
  {
   "cell_type": "code",
   "execution_count": 83,
   "metadata": {},
   "outputs": [
    {
     "name": "stdout",
     "output_type": "stream",
     "text": [
      "[ True False False False]\n",
      "[ True  True  True False]\n"
     ]
    }
   ],
   "source": [
    "a= np.array([True, True, False, False])\n",
    "b= np.array([True, False, True, False])\n",
    "\n",
    "c= np.logical_and(a, b)\n",
    "print(c)\n",
    "\n",
    "d= np.logical_or(a, b)\n",
    "print(d)"
   ]
  },
  {
   "attachments": {},
   "cell_type": "markdown",
   "metadata": {},
   "source": [
    "Sorting\n",
    "- arr.sort() changes the original array, but doesnt return anything\n",
    "- np.sort() returns a new array"
   ]
  },
  {
   "cell_type": "code",
   "execution_count": 105,
   "metadata": {},
   "outputs": [
    {
     "name": "stdout",
     "output_type": "stream",
     "text": [
      "[ 3 10  7  6  8 31  2  5]\n",
      "[ 2  3  5  6  7  8 10 31]\n",
      "[31 10  8  7  6  5  3  2]\n",
      "None\n"
     ]
    }
   ],
   "source": [
    "a= np.array([3,10,7,6,8,31,2,5])\n",
    "print(a)\n",
    "b= np.sort(a)[::-1] #to sort in descending order\n",
    "c= a.sort()\n",
    "\n",
    "print(a)\n",
    "print(b)\n",
    "print(c)"
   ]
  }
 ],
 "metadata": {
  "kernelspec": {
   "display_name": "Python 3",
   "language": "python",
   "name": "python3"
  },
  "language_info": {
   "codemirror_mode": {
    "name": "ipython",
    "version": 3
   },
   "file_extension": ".py",
   "mimetype": "text/x-python",
   "name": "python",
   "nbconvert_exporter": "python",
   "pygments_lexer": "ipython3",
   "version": "3.10.10"
  },
  "orig_nbformat": 4
 },
 "nbformat": 4,
 "nbformat_minor": 2
}
