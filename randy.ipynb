{
 "cells": [
  {
   "attachments": {},
   "cell_type": "markdown",
   "metadata": {},
   "source": [
    "Dashboards(collection/collage of graphs and/or plots), Plotly(advanced plots and visualizations): \n",
    "dash - an area for someone to see and explore your data"
   ]
  },
  {
   "attachments": {},
   "cell_type": "markdown",
   "metadata": {},
   "source": [
    "Dashboards and interactive data applications\n",
    "    Realtime visuals\n",
    "    understand business mving parts\n",
    "    visually track, analyze and display key performance indicators (KPI)\n",
    "    take informed decisions and improve performance\n",
    "    ------"
   ]
  },
  {
   "attachments": {},
   "cell_type": "markdown",
   "metadata": {},
   "source": [
    "Dash from Plotly - well suited for building data visualizations apps"
   ]
  },
  {
   "cell_type": "code",
   "execution_count": null,
   "metadata": {},
   "outputs": [],
   "source": []
  }
 ],
 "metadata": {
  "language_info": {
   "name": "python"
  },
  "orig_nbformat": 4
 },
 "nbformat": 4,
 "nbformat_minor": 2
}
